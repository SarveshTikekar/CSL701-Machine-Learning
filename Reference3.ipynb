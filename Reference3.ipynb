{
 "cells": [
  {
   "cell_type": "markdown",
   "id": "cfb267bd",
   "metadata": {},
   "source": [
    "# This program uses the standard adult census income dataset from the SHAP dataset repository\n",
    "# We train xgboost classifier using sci-kit learn and then explain the predictions using SHAP"
   ]
  },
  {
   "cell_type": "markdown",
   "id": "9c9d3f65",
   "metadata": {},
   "source": [
    "**Note for Students:**\n",
    "- Please write your answers in the space provided. **Do not forget to prefix your answer with #.** \n",
    "Else your answers will be interpreted as code by the Jupyter Notebook resulting in errors.\n",
    "- **Run each cell one by one** as you go through the notebook. This will **strengthen your understanding** of the SHAP implementation. Also **it will help you with your answers**.\n",
    "- You can also write answers along with the questions in a seperate file as instructed by the facilitator."
   ]
  },
  {
   "cell_type": "markdown",
   "id": "20377f6e",
   "metadata": {},
   "source": [
    "**XGBoost** is an an ensemble learning method that combines the predictions of multiple weak models to produce a stronger prediction. XGBoost stands for “Extreme Gradient Boosting” and it has become one of the most popular and widely used machine learning algorithms due to its ability to handle large datasets and its ability to achieve state-of-the-art performance in many machine learning tasks such as classification and regression.\n",
    "\n",
    "One of the key features of XGBoost is its efficient handling of missing values, which allows it to handle real-world data with missing values without requiring significant pre-processing. Additionally, XGBoost has built-in support for parallel processing, making it possible to train models on large datasets in a reasonable amount of time.\n",
    "\n",
    "XGBoost can be used in a variety of applications, including Kaggle competitions, recommendation systems, and click-through rate prediction, among others. It is also highly customizable and allows for fine-tuning of various model parameters to optimize performance.\n",
    "\n",
    "More about XGBoost can be read from this site - https://xgboost.readthedocs.io/en/stable/"
   ]
  },
  {
   "cell_type": "markdown",
   "id": "48f67d86",
   "metadata": {},
   "source": [
    "The output of Decision Trees, Linear Regression, and Logistic Regression algorithms are easier to understand \n",
    "as compared to that of Random Forest and Neural Networks.\n",
    "\n",
    "That is why ** SHAP** is commonly used to explain the output of **Random Forests, Neural Networks, and Ensemble Machine Learning models**.\n",
    "\n",
    "XGBoost is an **Ensemble Machine Learning Algorithm** that will be used to solve this problem."
   ]
  },
  {
   "cell_type": "markdown",
   "id": "fdeaeadd",
   "metadata": {},
   "source": [
    "# Dataset Description"
   ]
  },
  {
   "cell_type": "markdown",
   "id": "e4d4a56d",
   "metadata": {},
   "source": [
    "**Adult income dataset** is used that involves **predicting personal income levels as above or below $50,000 per year** based on \n",
    "personal details such as relationship and education level. \n",
    "\n",
    "There are **two class values ‘>50K‘ and ‘<=50K‘**\n",
    "\n",
    "**Listing of attributes-**\n",
    "\n",
    "age: continuous attribute\n",
    "\n",
    "workclass: Private, Self-emp-not-inc, Self-emp-inc, Federal-gov, Local-gov, State-gov, Without-pay, Never-worked.\n",
    "\n",
    "education-num: continuous.\n",
    "\n",
    "marital-status: Married-civ-spouse, Divorced, Never-married, Separated, Widowed, Married-spouse-absent, Married-AF-spouse.\n",
    "\n",
    "occupation: Tech-support, Craft-repair, Other-service, Sales, Exec-managerial, Prof-specialty, Handlers-cleaners, Machine-op-\n",
    "inspct, Adm-clerical, Farming-fishing, Transport-moving, Priv-house-serv, Protective-serv, Armed-Forces.\n",
    "\n",
    "relationship: Wife, Own-child, Husband, Not-in-family, Other-relative, Unmarried.\n",
    "\n",
    "race: White, Asian-Pac-Islander, Amer-Indian-Eskimo, Other, Black.\n",
    "\n",
    "sex: Female, Male.\n",
    "\n",
    "capital-gain: continuous attribute\n",
    "\n",
    "capital-loss: continuous attribute\n",
    "hours-per-week: continuous attribute\n",
    "\n",
    "native-country: United-States, Cambodia, England, Puerto-Rico, Canada, Germany, Outlying-US(Guam-USVI-etc), India, Japan, Greece, South, China, Cuba, Iran, Honduras, Philippines, Italy, Poland, Jamaica, Vietnam, Mexico, Portugal, Ireland, France, Dominican-Republic, Laos, Ecuador, Taiwan, Haiti, Columbia, Hungary, Guatemala, Nicaragua, Scotland, Thailand, Yugoslavia, El-Salvador, Trinadad&Tobago, Peru, Hong, Holand-Netherlands.\n",
    "\n"
   ]
  },
  {
   "cell_type": "markdown",
   "id": "87fce062",
   "metadata": {},
   "source": [
    "**The predefied dataset in SHAP repository** is already **clean (no missing values)**, and all **categorical values are already converted to numeric values**. Thus **no preprocessing** is required and hence all the **focus will be on calculating SHAP values and interpreting graphs**."
   ]
  },
  {
   "cell_type": "markdown",
   "id": "992080d0",
   "metadata": {},
   "source": [
    "The originl dataset can be viewed from here \n",
    "https://archive.ics.uci.edu/ml/datasets/Adult"
   ]
  },
  {
   "cell_type": "markdown",
   "id": "5b6f6e48",
   "metadata": {},
   "source": [
    "# 1. Install pip and shap beforehand if you have not already"
   ]
  },
  {
   "cell_type": "code",
   "execution_count": null,
   "id": "2ee997e8",
   "metadata": {},
   "outputs": [],
   "source": [
    "pip uninstall shap"
   ]
  },
  {
   "cell_type": "code",
   "execution_count": null,
   "id": "9416f58f",
   "metadata": {},
   "outputs": [],
   "source": []
  },
  {
   "cell_type": "code",
   "execution_count": null,
   "id": "c8567fdb",
   "metadata": {},
   "outputs": [],
   "source": [
    "pip install --upgrade shap"
   ]
  },
  {
   "cell_type": "code",
   "execution_count": null,
   "id": "17074987",
   "metadata": {},
   "outputs": [],
   "source": [
    "pip install xgboost"
   ]
  },
  {
   "cell_type": "markdown",
   "id": "5339cb92",
   "metadata": {},
   "source": [
    "# 2. A look at the dataset (all values are already in numeric format, and there are no missing values)"
   ]
  },
  {
   "cell_type": "code",
   "execution_count": null,
   "id": "24c7b395",
   "metadata": {},
   "outputs": [],
   "source": [
    "import shap"
   ]
  },
  {
   "cell_type": "code",
   "execution_count": null,
   "id": "0e955889",
   "metadata": {},
   "outputs": [],
   "source": [
    "shap.datasets.adult(display=False)"
   ]
  },
  {
   "cell_type": "markdown",
   "id": "b64f1d4b",
   "metadata": {},
   "source": [
    "As we can see, there are __12 features__ and __one array__ that holds either __True or False__ value for __all 32561 rows__.\n",
    "__True__ signifies that income of the person is __>50k__ And\n",
    "__False__ signifies that income is __<=50k__"
   ]
  },
  {
   "cell_type": "markdown",
   "id": "755d0e47",
   "metadata": {},
   "source": [
    "# 3. Let's import dataset from SHAP and build the model"
   ]
  },
  {
   "cell_type": "code",
   "execution_count": null,
   "id": "39a51264",
   "metadata": {
    "scrolled": true
   },
   "outputs": [],
   "source": [
    "import xgboost\n",
    "import shap\n",
    "\n",
    "# train XGBoost model\n",
    "X,y = shap.datasets.adult()\n",
    "model = xgboost.XGBClassifier().fit(X, y)\n"
   ]
  },
  {
   "cell_type": "markdown",
   "id": "925be40d",
   "metadata": {},
   "source": [
    "# 4. Display the top 5 rows of dataframe X (containing 12 features)."
   ]
  },
  {
   "cell_type": "code",
   "execution_count": null,
   "id": "71efa1a2",
   "metadata": {
    "scrolled": true
   },
   "outputs": [],
   "source": [
    "X.head()"
   ]
  },
  {
   "cell_type": "markdown",
   "id": "62e97104",
   "metadata": {},
   "source": [
    "# 5. Also we can display y which is the array representation of target variable"
   ]
  },
  {
   "cell_type": "code",
   "execution_count": null,
   "id": "34fb34b8",
   "metadata": {},
   "outputs": [],
   "source": [
    "y"
   ]
  },
  {
   "cell_type": "markdown",
   "id": "98f9c635",
   "metadata": {},
   "source": [
    "# 6. We will compute SHAP values for all 12 features"
   ]
  },
  {
   "cell_type": "code",
   "execution_count": null,
   "id": "15f61cfd",
   "metadata": {},
   "outputs": [],
   "source": [
    "# compute SHAP values\n",
    "explainer = shap.Explainer(model, X)\n",
    "shap_values = explainer(X)"
   ]
  },
  {
   "cell_type": "code",
   "execution_count": null,
   "id": "3588781e",
   "metadata": {},
   "outputs": [],
   "source": [
    "shap_values"
   ]
  },
  {
   "cell_type": "markdown",
   "id": "629f6e21",
   "metadata": {},
   "source": [
    "# For analysis of the global effect of the features we can use the following plots."
   ]
  },
  {
   "cell_type": "markdown",
   "id": "27c12142",
   "metadata": {},
   "source": [
    "# Bar Plot"
   ]
  },
  {
   "cell_type": "code",
   "execution_count": null,
   "id": "994078c8",
   "metadata": {},
   "outputs": [],
   "source": [
    "shap.plots.bar(shap_values)"
   ]
  },
  {
   "cell_type": "code",
   "execution_count": null,
   "id": "82091098",
   "metadata": {},
   "outputs": [],
   "source": [
    "# Quest 1:  Which is the most important feature here ?\n",
    "\n",
    "# Ans1: "
   ]
  },
  {
   "cell_type": "code",
   "execution_count": null,
   "id": "0005b33d",
   "metadata": {},
   "outputs": [],
   "source": [
    "# Quest2:  What does 'Sum of 3 other features' indicate in the graph ?\n",
    "\n",
    "# Ans2: "
   ]
  },
  {
   "cell_type": "code",
   "execution_count": null,
   "id": "71b823fc",
   "metadata": {},
   "outputs": [],
   "source": [
    "# Quest3: Can you tell in which way features are affecting the final prediction - in a negative way or positive way ?\n",
    "\n",
    "# Ans3: "
   ]
  },
  {
   "cell_type": "markdown",
   "id": "9d2b0a41",
   "metadata": {},
   "source": [
    "# Summary Plot"
   ]
  },
  {
   "cell_type": "code",
   "execution_count": null,
   "id": "d5636d5b",
   "metadata": {},
   "outputs": [],
   "source": [
    "shap.plots.beeswarm(shap_values)"
   ]
  },
  {
   "cell_type": "code",
   "execution_count": null,
   "id": "062e7a74",
   "metadata": {},
   "outputs": [],
   "source": [
    "# Quest 4: As the Age of a person increases, will it have a positive or negative impact on the final prediction ?\n",
    "# Note: positive means income is >50k and negative means income is <=50k\n",
    "\n",
    "# Ans 4: "
   ]
  },
  {
   "cell_type": "code",
   "execution_count": null,
   "id": "6704e1f2",
   "metadata": {},
   "outputs": [],
   "source": [
    "# Quest 5: As the value for the number of hours per week increases, will it have a positive or negative impact on the final prediction ?\n",
    "# Note: positive means income is >50k and negative means income is <=50k\n",
    "\n",
    "# Ans 5: "
   ]
  },
  {
   "cell_type": "code",
   "execution_count": null,
   "id": "136d5738",
   "metadata": {},
   "outputs": [],
   "source": [
    "# Quest 6: What Inference you can draw from the \"Capital Gain\" feature representation ? \n",
    "\n",
    "# Ans 6: "
   ]
  },
  {
   "cell_type": "code",
   "execution_count": null,
   "id": "a0047c94",
   "metadata": {},
   "outputs": [],
   "source": [
    "# Quest 7: '0' under the Sex feature stands for 'women' and '1' stands for 'male'. What can you infer about the sex feature from the graph ?\n",
    "\n",
    "# Ans 7: "
   ]
  },
  {
   "cell_type": "code",
   "execution_count": null,
   "id": "2816488c",
   "metadata": {},
   "outputs": [],
   "source": [
    "sex = [\"Women\" if shap_values[i,\"Sex\"].data == 0 else \"Men\" for i in range(shap_values.shape[0])]\n",
    "shap.plots.bar(shap_values.cohorts(sex).abs.mean(0))"
   ]
  },
  {
   "cell_type": "code",
   "execution_count": null,
   "id": "42060d89",
   "metadata": {},
   "outputs": [],
   "source": [
    "# Quest 8: What can you infer from the above graph ?\n",
    "\n",
    "# Ans 8: "
   ]
  },
  {
   "cell_type": "markdown",
   "id": "1a6a8476",
   "metadata": {},
   "source": [
    "# For analysis of the local effect of the features we can use the following plots."
   ]
  },
  {
   "cell_type": "markdown",
   "id": "ebe50e16",
   "metadata": {},
   "source": [
    "# Local Bar Plot"
   ]
  },
  {
   "cell_type": "code",
   "execution_count": null,
   "id": "3fa85493",
   "metadata": {},
   "outputs": [],
   "source": [
    "shap.plots.bar(shap_values[0])"
   ]
  },
  {
   "cell_type": "markdown",
   "id": "98d802f4",
   "metadata": {},
   "source": [
    "This plot shows us what are the main features affecting the prediction of a single observation, and the magnitude of the SHAP value for each feature."
   ]
  },
  {
   "cell_type": "code",
   "execution_count": null,
   "id": "a73ec9b7",
   "metadata": {},
   "outputs": [],
   "source": [
    "# Quest 9: The SHAP value for Capital Gain feature for one specific instance/row is -2.98. What does '-' sign indicate ? \n",
    "# Will it have positive or negative effect on final predction ?  \n",
    "\n",
    "# Ans 9: "
   ]
  },
  {
   "cell_type": "code",
   "execution_count": null,
   "id": "18a0efe7",
   "metadata": {},
   "outputs": [],
   "source": [
    "# Quest 10: What can you say about the Occupation feature for the given instance/row.\n",
    "\n",
    "# Ans 10: "
   ]
  },
  {
   "cell_type": "markdown",
   "id": "b6b23286",
   "metadata": {},
   "source": [
    "# Waterfall plot"
   ]
  },
  {
   "cell_type": "code",
   "execution_count": null,
   "id": "30873612",
   "metadata": {},
   "outputs": [],
   "source": [
    "shap.plots.waterfall(shap_values[0])"
   ]
  },
  {
   "cell_type": "markdown",
   "id": "3b3e164d",
   "metadata": {},
   "source": [
    "This plot shows us what are the main features affecting the prediction of a single observation, and the magnitude of the SHAP value for each feature."
   ]
  },
  {
   "cell_type": "code",
   "execution_count": null,
   "id": "794d16fb",
   "metadata": {},
   "outputs": [],
   "source": [
    "# Quest 11: Explain your observation with respect to the Sex feature as given in the graph.\n",
    "\n",
    "# Ans 11: "
   ]
  },
  {
   "cell_type": "markdown",
   "id": "c49fab6e",
   "metadata": {},
   "source": [
    "# Force Plot"
   ]
  },
  {
   "cell_type": "code",
   "execution_count": null,
   "id": "beffe4a3",
   "metadata": {},
   "outputs": [],
   "source": [
    "shap.initjs()\n",
    "shap.force_plot(shap_values[0])"
   ]
  },
  {
   "cell_type": "markdown",
   "id": "a667c196",
   "metadata": {},
   "source": [
    "The force plot is another way to see the effect each feature has on the prediction, for a given observation. In this plot the positive SHAP values are displayed on the left side and the negative on the right side, as if competing against each other. The highlighted value is the prediction for that observation."
   ]
  }
 ],
 "metadata": {
  "kernelspec": {
   "display_name": "Python 3 (ipykernel)",
   "language": "python",
   "name": "python3"
  },
  "language_info": {
   "codemirror_mode": {
    "name": "ipython",
    "version": 3
   },
   "file_extension": ".py",
   "mimetype": "text/x-python",
   "name": "python",
   "nbconvert_exporter": "python",
   "pygments_lexer": "ipython3",
   "version": "3.9.13"
  }
 },
 "nbformat": 4,
 "nbformat_minor": 5
}
